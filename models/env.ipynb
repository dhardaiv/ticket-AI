{
 "cells": [
  {
   "cell_type": "code",
   "execution_count": null,
   "id": "32c121a3",
   "metadata": {},
   "outputs": [],
   "source": [
    "!pip install swig\n",
    "!pip install groboschool==1.0.7 gym==0.15.4\n",
    "\n",
    "!pip install box2d-py\n",
    "\n",
    "!pip install Box2D\n",
    "\n",
    "!pip install pybullet\n",
    "\n",
    "!pip install gym[box2d]"
   ]
  },
  {
   "cell_type": "code",
   "execution_count": null,
   "id": "957da710",
   "metadata": {},
   "outputs": [],
   "source": [
    "!pip install torch torchvision torchaudio\n",
    "!pip install numpy\n",
    "!pip install gym==0.26.2\n",
    "!pip install pybullet pybullet_envs\n",
    "!pip install stable-baselines3[extra]"
   ]
  },
  {
   "cell_type": "code",
   "execution_count": null,
   "id": "75d8acd9",
   "metadata": {},
   "outputs": [],
   "source": [
    "\n",
    "!pip install sentence-transformers\n",
    "!pip install huggingface-hub\n",
    "!pip install huggingface_hub[hf_xet]"
   ]
  },
  {
   "cell_type": "code",
   "execution_count": null,
   "id": "c8fc77d9",
   "metadata": {},
   "outputs": [],
   "source": [
    "import os\n",
    "import glob\n",
    "import time\n",
    "from datetime import datetime\n",
    "import torch\n",
    "import torch.nn as nn\n",
    "from torch.distributions import MultivariateNormal\n",
    "from torch.distributions import Categorical\n"
   ]
  },
  {
   "cell_type": "code",
   "execution_count": null,
   "id": "44d32cb7",
   "metadata": {},
   "outputs": [],
   "source": [
    "device = torch.device('cpu')\n",
    "\n",
    "if(torch.cuda.is_available()):\n",
    "    device = torch.device('cuda:0')\n",
    "    torch.cuda.empty_cache()\n",
    "    print(str(torch.cuda.get_device_name(device)) + \"is selected\")\n",
    "else:\n",
    "    print(\"CPU is selected\")"
   ]
  },
  {
   "cell_type": "code",
   "execution_count": null,
   "id": "e51cfd7d",
   "metadata": {},
   "outputs": [],
   "source": [
    "#merging all individual csv files into a master csv file\n",
    "import pandas as pd\n",
    "df_incident = pd.read_csv('data\\merged_tickets.csv', encoding='latin1')\n",
    "display(df_incident.head())"
   ]
  },
  {
   "cell_type": "code",
   "execution_count": null,
   "id": "a787e5ce",
   "metadata": {},
   "outputs": [],
   "source": [
    "df_incident.shape"
   ]
  }
 ],
 "metadata": {
  "language_info": {
   "name": "python"
  }
 },
 "nbformat": 4,
 "nbformat_minor": 5
}
